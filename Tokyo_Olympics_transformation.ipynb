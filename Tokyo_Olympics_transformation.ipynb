{
 "cells": [
  {
   "cell_type": "code",
   "execution_count": null,
   "id": "d8536afe",
   "metadata": {},
   "outputs": [],
   "source": [
    "client_id = \"<client-id>\"\n",
    "client_secret = \"<client-secret>\"\n",
    "tenant_id = '<tenant-id>'\n",
    "storage_account_name = \"tokyoolympicdatamaaz\"\n",
    "container_name = \"raw-data\"\n",
    "\n",
    "\n",
    "configs = {\n",
    "\"fs.azure.account.auth.type\": \"OAuth\",\n",
    "\"fs.azure.account.oauth.provider.type\": \"org.apache.hadoop.fs.azurebfs.oauth2.ClientCredsTokenProvider\",\n",
    "\"fs.azure.account.oauth2.client.id\": client_id,\n",
    "\"fs.azure.account.oauth2.client.secret\": client_secret,\n",
    "\"fs.azure.account.oauth2.client.endpoint\": f\"https://login.microsoftonline.com/{tenant_id}/oauth2/token\"\n",
    "}\n",
    "\n",
    "mount_point = f\"/mnt/{container_name}\"\n",
    "#print(mount_point)\n",
    "try:\n",
    "    dbutils.fs.mount(\n",
    "         source=f\"abfss://{container_name}@{storage_account_name}.dfs.core.windows.net/\",\n",
    "         mount_point=mount_point,\n",
    "         extra_configs=configs\n",
    "     )\n",
    "except Exception as e:\n",
    "     print(f\"Error occurred: {e}\")\n",
    "\n",
    "#List files to verify mount\n",
    "display(dbutils.fs.ls(\"/mnt/raw-data\"))"
   ]
  },
  {
   "cell_type": "code",
   "execution_count": null,
   "id": "7690b7ea",
   "metadata": {},
   "outputs": [],
   "source": [
    "spark"
   ]
  },
  {
   "cell_type": "code",
   "execution_count": null,
   "id": "72e86ea8",
   "metadata": {},
   "outputs": [],
   "source": [
    "athletes = spark.read.format(\"csv\").option(\"header\",\"true\").option(\"inferSchema\",\"true\").load(\"/mnt/raw-data/Athletes (1).csv\")\n",
    "coaches = spark.read.format(\"csv\").option(\"header\",\"true\").option(\"inferSchema\",\"true\").load(\"/mnt/raw-data/Coaches (1).csv\")\n",
    "entriesgender = spark.read.format(\"csv\").option(\"header\",\"true\").option(\"inferSchema\",\"true\").load(\"/mnt/raw-data/EntriesGender (1).csv\")\n",
    "medals = spark.read.format(\"csv\").option(\"header\",\"true\").option(\"inferSchema\",\"true\").load(\"/mnt/raw-data/Medals (1).csv\")\n",
    "teams = spark.read.format(\"csv\").option(\"header\",\"true\").option(\"inferSchema\",\"true\").load(\"/mnt/raw-data/Teams (1).csv\")"
   ]
  },
  {
   "cell_type": "code",
   "execution_count": null,
   "id": "0bfe4cfc",
   "metadata": {},
   "outputs": [],
   "source": [
    "# Verifying the data and the datatype using the printschema()\n",
    "\n",
    "athletes.show()"
   ]
  },
  {
   "cell_type": "code",
   "execution_count": null,
   "id": "fb593173",
   "metadata": {},
   "outputs": [],
   "source": [
    "athletes.printSchema()"
   ]
  },
  {
   "cell_type": "code",
   "execution_count": null,
   "id": "7ffbd19f",
   "metadata": {},
   "outputs": [],
   "source": [
    "coaches.show()"
   ]
  },
  {
   "cell_type": "code",
   "execution_count": null,
   "id": "9d370e0b",
   "metadata": {},
   "outputs": [],
   "source": [
    "coaches.printSchema()"
   ]
  },
  {
   "cell_type": "code",
   "execution_count": null,
   "id": "c2b72171",
   "metadata": {},
   "outputs": [],
   "source": [
    "entriesgender.show()"
   ]
  },
  {
   "cell_type": "code",
   "execution_count": null,
   "id": "66488ea1",
   "metadata": {},
   "outputs": [],
   "source": [
    "entriesgender.printSchema()"
   ]
  },
  {
   "cell_type": "code",
   "execution_count": null,
   "id": "a2cde7f7",
   "metadata": {},
   "outputs": [],
   "source": [
    "# Typecasting columns into Integer Datatype\n",
    "\n",
    "from pyspark.sql.functions import col\n",
    "from pyspark.sql.types import IntegerType, DoubleType, BooleanType, DateType\n",
    "\n",
    "entriesgender = entriesgender.withColumn(\"Female\",col(\"Female\").cast(IntegerType()))\\\n",
    "    .withColumn(\"Male\",col(\"Male\").cast(IntegerType()))\\\n",
    "    .withColumn(\"Total\",col(\"Total\").cast(IntegerType()))"
   ]
  },
  {
   "cell_type": "code",
   "execution_count": null,
   "id": "1db68ded",
   "metadata": {},
   "outputs": [],
   "source": [
    "entriesgender.printSchema()"
   ]
  },
  {
   "cell_type": "code",
   "execution_count": null,
   "id": "ea3cb5ef",
   "metadata": {},
   "outputs": [],
   "source": [
    "medals.show()"
   ]
  },
  {
   "cell_type": "code",
   "execution_count": null,
   "id": "d77dcc64",
   "metadata": {},
   "outputs": [],
   "source": [
    "medals.printSchema()"
   ]
  },
  {
   "cell_type": "code",
   "execution_count": null,
   "id": "666e17d5",
   "metadata": {},
   "outputs": [],
   "source": [
    "teams.show()"
   ]
  },
  {
   "cell_type": "code",
   "execution_count": null,
   "id": "2453485a",
   "metadata": {},
   "outputs": [],
   "source": [
    "teams.printSchema()"
   ]
  },
  {
   "cell_type": "code",
   "execution_count": null,
   "id": "20127af7",
   "metadata": {},
   "outputs": [],
   "source": [
    "# Calculate the average number of entries by gender for each discipline\n",
    "average_entries_by_gender = entriesgender.withColumn(\n",
    "    'Avg_Female', entriesgender['Female'] / entriesgender['Total']\n",
    ").withColumn(\n",
    "    'Avg_Male', entriesgender['Male'] / entriesgender['Total']\n",
    ")\n",
    "average_entries_by_gender.show()"
   ]
  },
  {
   "cell_type": "code",
   "execution_count": null,
   "id": "81752b84",
   "metadata": {},
   "outputs": [],
   "source": [
    "athletes.repartition(1).write.mode(\"overwrite\").option(\"header\",'true').csv(\"/mnt/raw-data/transformed-data/athletes\")"
   ]
  },
  {
   "cell_type": "code",
   "execution_count": null,
   "id": "217cf768",
   "metadata": {},
   "outputs": [],
   "source": [
    "coaches.repartition(1).write.mode(\"overwrite\").option(\"header\",\"true\").csv(\"/mnt/raw-data/transformed-data/coaches\")\n",
    "entriesgender.repartition(1).write.mode(\"overwrite\").option(\"header\",\"true\").csv(\"/mnt/raw-data/transformed-data/entriesgender\")\n",
    "medals.repartition(1).write.mode(\"overwrite\").option(\"header\",\"true\").csv(\"/mnt/raw-data/transformed-data/medals\")\n",
    "teams.repartition(1).write.mode(\"overwrite\").option(\"header\",\"true\").csv(\"/mnt/raw-data/transformed-data/teams\")"
   ]
  }
 ],
 "metadata": {
  "kernelspec": {
   "display_name": "Python 3 (ipykernel)",
   "language": "python",
   "name": "python3"
  },
  "language_info": {
   "codemirror_mode": {
    "name": "ipython",
    "version": 3
   },
   "file_extension": ".py",
   "mimetype": "text/x-python",
   "name": "python",
   "nbconvert_exporter": "python",
   "pygments_lexer": "ipython3",
   "version": "3.11.4"
  }
 },
 "nbformat": 4,
 "nbformat_minor": 5
}
